{
 "cells": [
  {
   "cell_type": "code",
   "execution_count": 2,
   "metadata": {},
   "outputs": [],
   "source": [
    "import numpy as np"
   ]
  },
  {
   "cell_type": "code",
   "execution_count": null,
   "metadata": {},
   "outputs": [],
   "source": [
    "# 1. REPRESENT A GRAPH\n",
    "# 2. LIST ALL INDEPENDENT SETS OF THE GRAPH\n",
    "# 3. CHOOSE THE ONE WITH MAXIMUM CARDINALITY"
   ]
  },
  {
   "cell_type": "code",
   "execution_count": 7,
   "metadata": {},
   "outputs": [],
   "source": [
    "V = [0,1,2,3,4]\n",
    "E = [(1,2), (0,4), (3,4), (2,3)]\n",
    "N = len(V)"
   ]
  },
  {
   "cell_type": "code",
   "execution_count": 8,
   "metadata": {},
   "outputs": [
    {
     "data": {
      "text/plain": [
       "['00000',\n",
       " '00001',\n",
       " '00010',\n",
       " '00011',\n",
       " '00100',\n",
       " '00101',\n",
       " '00110',\n",
       " '00111',\n",
       " '01000',\n",
       " '01001',\n",
       " '01010',\n",
       " '01011',\n",
       " '01100',\n",
       " '01101',\n",
       " '01110',\n",
       " '01111',\n",
       " '10000',\n",
       " '10001',\n",
       " '10010',\n",
       " '10011',\n",
       " '10100',\n",
       " '10101',\n",
       " '10110',\n",
       " '10111',\n",
       " '11000',\n",
       " '11001',\n",
       " '11010',\n",
       " '11011',\n",
       " '11100',\n",
       " '11101',\n",
       " '11110',\n",
       " '11111']"
      ]
     },
     "execution_count": 8,
     "metadata": {},
     "output_type": "execute_result"
    }
   ],
   "source": [
    "# find all possible subsets of V\n",
    "subsets = [str(np.binary_repr(i, N)) for i in range(2**N)]\n",
    "subsets"
   ]
  },
  {
   "cell_type": "code",
   "execution_count": 10,
   "metadata": {},
   "outputs": [],
   "source": [
    "def is_independent_set(E, subset):\n",
    "    # subset is a bitstring\n",
    "    vertices = [i for i,s in enumerate(subset) if s=='1']\n",
    "    for edge in E:\n",
    "        if (edge[0] in vertices) and (edge[1] in vertices):\n",
    "            return False\n",
    "    return True"
   ]
  },
  {
   "cell_type": "code",
   "execution_count": 13,
   "metadata": {},
   "outputs": [],
   "source": [
    "independent_sets = [s for s in subsets if is_independent_set(E,s)]"
   ]
  },
  {
   "cell_type": "code",
   "execution_count": 14,
   "metadata": {},
   "outputs": [
    {
     "data": {
      "text/plain": [
       "['00000',\n",
       " '00001',\n",
       " '00010',\n",
       " '00100',\n",
       " '00101',\n",
       " '01000',\n",
       " '01001',\n",
       " '01010',\n",
       " '10000',\n",
       " '10010',\n",
       " '10100',\n",
       " '11000',\n",
       " '11010']"
      ]
     },
     "execution_count": 14,
     "metadata": {},
     "output_type": "execute_result"
    }
   ],
   "source": [
    "independent_sets"
   ]
  },
  {
   "cell_type": "code",
   "execution_count": 16,
   "metadata": {},
   "outputs": [
    {
     "data": {
      "text/plain": [
       "[0, 1, 1, 1, 2, 1, 2, 2, 1, 2, 2, 2, 3]"
      ]
     },
     "execution_count": 16,
     "metadata": {},
     "output_type": "execute_result"
    }
   ],
   "source": [
    "sizes = [s.count('1') for s in independent_sets]\n",
    "sizes"
   ]
  },
  {
   "cell_type": "code",
   "execution_count": 17,
   "metadata": {},
   "outputs": [],
   "source": [
    "def MIS_cost_function(E, bitstring):\n",
    "    vertices = [i for i,s in enumerate(bitstring) if s=='1']\n",
    "    cost = 0\n",
    "    # linear term\n",
    "    for b in bitstring:\n",
    "        if b=='1':\n",
    "            cost -= 1\n",
    "    # quadratic term\n",
    "    for edge in E:\n",
    "        if edge[0] in vertices and edge[1] in vertices:\n",
    "            cost += 2\n",
    "    return cost\n",
    "    "
   ]
  },
  {
   "cell_type": "code",
   "execution_count": 19,
   "metadata": {},
   "outputs": [
    {
     "name": "stdout",
     "output_type": "stream",
     "text": [
      "00000 0\n",
      "00001 -1\n",
      "00010 -1\n",
      "00011 0\n",
      "00100 -1\n",
      "00101 -2\n",
      "00110 0\n",
      "00111 1\n",
      "01000 -1\n",
      "01001 -2\n",
      "01010 -2\n",
      "01011 -1\n",
      "01100 0\n",
      "01101 -1\n",
      "01110 1\n",
      "01111 2\n",
      "10000 -1\n",
      "10001 0\n",
      "10010 -2\n",
      "10011 1\n",
      "10100 -2\n",
      "10101 -1\n",
      "10110 -1\n",
      "10111 2\n",
      "11000 -2\n",
      "11001 -1\n",
      "11010 -3\n",
      "11011 0\n",
      "11100 -1\n",
      "11101 0\n",
      "11110 0\n",
      "11111 3\n"
     ]
    }
   ],
   "source": [
    "costs = [MIS_cost_function(E, s) for s in subsets]\n",
    "\n",
    "for s,c in zip(subsets, costs):\n",
    "    print(s,c)"
   ]
  },
  {
   "cell_type": "code",
   "execution_count": null,
   "metadata": {},
   "outputs": [],
   "source": []
  }
 ],
 "metadata": {
  "kernelspec": {
   "display_name": "main",
   "language": "python",
   "name": "python3"
  },
  "language_info": {
   "codemirror_mode": {
    "name": "ipython",
    "version": 3
   },
   "file_extension": ".py",
   "mimetype": "text/x-python",
   "name": "python",
   "nbconvert_exporter": "python",
   "pygments_lexer": "ipython3",
   "version": "3.10.14"
  }
 },
 "nbformat": 4,
 "nbformat_minor": 2
}
